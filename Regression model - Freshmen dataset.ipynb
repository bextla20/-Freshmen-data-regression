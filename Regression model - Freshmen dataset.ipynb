{
 "cells": [
  {
   "cell_type": "markdown",
   "metadata": {},
   "source": [
    "Predicting and understanding different key outcomes in a student’s academic trajectory such as grade point average, academic retention, and degree completion would allow targeted intervention programs in higher education. Most of the predictive models developed for those key outcomes have been based on traditional methodological approaches. However, these models assume linear relationships between variables and do not always yield accurate predictive classifications. On the other hand, the use of machine-learning approaches such as artificial neural networks has been very effective in the classification of various educational outcomes, overcoming the limitations of traditional methodological approaches. Details of student admissions to colleges in the university, divided across ethnicity from different joining years with added identifiers like average GPA of batch and co-ordinates of colleges and schools.\n",
    "\n",
    "## Data\n",
    "\n",
    "For this study, we have data with 8 columns.\n",
    "\n",
    "**GPA** - commonly used indicator of an individual's academic achievement in school.\n",
    "\n",
    "**Miles from Home** - Distance from home.\n",
    "\n",
    "**College** - Dataset has 5 Different types of study area.\n",
    "\n",
    "**Accommodations** - A dorm, off-campus and other type living place.\n",
    "\n",
    "**Years Off** - Each person has various years on college.\n",
    "\n",
    "**Part-Time Work Hours** - It is show that student's part time work during a week.\n",
    "\n",
    "**Attends Office Hours** - It is show that student's office work during a week.\n",
    "\n",
    "**High School GPA** - This column contains GPA level of a student."
   ]
  },
  {
   "cell_type": "markdown",
   "metadata": {},
   "source": [
    "# Imports"
   ]
  },
  {
   "cell_type": "code",
   "execution_count": 1,
   "metadata": {},
   "outputs": [],
   "source": [
    "import numpy as np\n",
    "import pandas as pd\n",
    "import seaborn as sns\n",
    "import matplotlib.pyplot as plt\n",
    "%matplotlib inline\n",
    "\n",
    "import warnings\n",
    "warnings.filterwarnings(\"ignore\")\n",
    "\n",
    "from sklearn.preprocessing import StandardScaler\n",
    "from sklearn.model_selection import train_test_split\n",
    "\n",
    "from sklearn.linear_model import LinearRegression\n",
    "from sklearn.metrics import mean_absolute_error, mean_squared_error, r2_score"
   ]
  },
  {
   "cell_type": "markdown",
   "metadata": {},
   "source": [
    "#### Data load"
   ]
  },
  {
   "cell_type": "code",
   "execution_count": 2,
   "metadata": {},
   "outputs": [],
   "source": [
    "df = pd.read_csv(\".\\\\data\\\\Freshmen.csv\")"
   ]
  },
  {
   "cell_type": "code",
   "execution_count": 3,
   "metadata": {},
   "outputs": [
    {
     "data": {
      "text/html": [
       "<div>\n",
       "<style scoped>\n",
       "    .dataframe tbody tr th:only-of-type {\n",
       "        vertical-align: middle;\n",
       "    }\n",
       "\n",
       "    .dataframe tbody tr th {\n",
       "        vertical-align: top;\n",
       "    }\n",
       "\n",
       "    .dataframe thead th {\n",
       "        text-align: right;\n",
       "    }\n",
       "</style>\n",
       "<table border=\"1\" class=\"dataframe\">\n",
       "  <thead>\n",
       "    <tr style=\"text-align: right;\">\n",
       "      <th></th>\n",
       "      <th>GPA</th>\n",
       "      <th>Miles from Home</th>\n",
       "      <th>College</th>\n",
       "      <th>Accommodations</th>\n",
       "      <th>Years Off</th>\n",
       "      <th>Part-Time Work Hours</th>\n",
       "      <th>Attends Office Hours</th>\n",
       "      <th>High School GPA</th>\n",
       "    </tr>\n",
       "  </thead>\n",
       "  <tbody>\n",
       "    <tr>\n",
       "      <th>0</th>\n",
       "      <td>0.73</td>\n",
       "      <td>253</td>\n",
       "      <td>Social Sciences</td>\n",
       "      <td>Dorm</td>\n",
       "      <td>4</td>\n",
       "      <td>35</td>\n",
       "      <td>Sometimes</td>\n",
       "      <td>3.23</td>\n",
       "    </tr>\n",
       "    <tr>\n",
       "      <th>1</th>\n",
       "      <td>1.60</td>\n",
       "      <td>143</td>\n",
       "      <td>Social Sciences</td>\n",
       "      <td>Dorm</td>\n",
       "      <td>5</td>\n",
       "      <td>30</td>\n",
       "      <td>Never</td>\n",
       "      <td>2.35</td>\n",
       "    </tr>\n",
       "    <tr>\n",
       "      <th>2</th>\n",
       "      <td>2.17</td>\n",
       "      <td>171</td>\n",
       "      <td>Social Sciences</td>\n",
       "      <td>Dorm</td>\n",
       "      <td>0</td>\n",
       "      <td>25</td>\n",
       "      <td>Never</td>\n",
       "      <td>3.95</td>\n",
       "    </tr>\n",
       "    <tr>\n",
       "      <th>3</th>\n",
       "      <td>1.02</td>\n",
       "      <td>332</td>\n",
       "      <td>Sciences</td>\n",
       "      <td>Off-campus</td>\n",
       "      <td>5</td>\n",
       "      <td>30</td>\n",
       "      <td>Sometimes</td>\n",
       "      <td>3.44</td>\n",
       "    </tr>\n",
       "    <tr>\n",
       "      <th>4</th>\n",
       "      <td>3.14</td>\n",
       "      <td>112</td>\n",
       "      <td>Business</td>\n",
       "      <td>Dorm</td>\n",
       "      <td>0</td>\n",
       "      <td>25</td>\n",
       "      <td>Sometimes</td>\n",
       "      <td>3.20</td>\n",
       "    </tr>\n",
       "    <tr>\n",
       "      <th>...</th>\n",
       "      <td>...</td>\n",
       "      <td>...</td>\n",
       "      <td>...</td>\n",
       "      <td>...</td>\n",
       "      <td>...</td>\n",
       "      <td>...</td>\n",
       "      <td>...</td>\n",
       "      <td>...</td>\n",
       "    </tr>\n",
       "    <tr>\n",
       "      <th>95</th>\n",
       "      <td>3.63</td>\n",
       "      <td>118</td>\n",
       "      <td>Social Sciences</td>\n",
       "      <td>Dorm</td>\n",
       "      <td>1</td>\n",
       "      <td>35</td>\n",
       "      <td>Sometimes</td>\n",
       "      <td>3.09</td>\n",
       "    </tr>\n",
       "    <tr>\n",
       "      <th>96</th>\n",
       "      <td>2.51</td>\n",
       "      <td>34</td>\n",
       "      <td>Social Sciences</td>\n",
       "      <td>Dorm</td>\n",
       "      <td>0</td>\n",
       "      <td>30</td>\n",
       "      <td>Regularly</td>\n",
       "      <td>2.62</td>\n",
       "    </tr>\n",
       "    <tr>\n",
       "      <th>97</th>\n",
       "      <td>2.01</td>\n",
       "      <td>353</td>\n",
       "      <td>Social Sciences</td>\n",
       "      <td>Dorm</td>\n",
       "      <td>1</td>\n",
       "      <td>20</td>\n",
       "      <td>Regularly</td>\n",
       "      <td>3.01</td>\n",
       "    </tr>\n",
       "    <tr>\n",
       "      <th>98</th>\n",
       "      <td>2.33</td>\n",
       "      <td>388</td>\n",
       "      <td>Business</td>\n",
       "      <td>Dorm</td>\n",
       "      <td>4</td>\n",
       "      <td>20</td>\n",
       "      <td>Regularly</td>\n",
       "      <td>3.13</td>\n",
       "    </tr>\n",
       "    <tr>\n",
       "      <th>99</th>\n",
       "      <td>2.65</td>\n",
       "      <td>194</td>\n",
       "      <td>Liberal Arts</td>\n",
       "      <td>Off-campus</td>\n",
       "      <td>0</td>\n",
       "      <td>30</td>\n",
       "      <td>Sometimes</td>\n",
       "      <td>3.62</td>\n",
       "    </tr>\n",
       "  </tbody>\n",
       "</table>\n",
       "<p>100 rows × 8 columns</p>\n",
       "</div>"
      ],
      "text/plain": [
       "     GPA  Miles from Home          College Accommodations  Years Off  \\\n",
       "0   0.73              253  Social Sciences           Dorm          4   \n",
       "1   1.60              143  Social Sciences           Dorm          5   \n",
       "2   2.17              171  Social Sciences           Dorm          0   \n",
       "3   1.02              332         Sciences     Off-campus          5   \n",
       "4   3.14              112         Business           Dorm          0   \n",
       "..   ...              ...              ...            ...        ...   \n",
       "95  3.63              118  Social Sciences           Dorm          1   \n",
       "96  2.51               34  Social Sciences           Dorm          0   \n",
       "97  2.01              353  Social Sciences           Dorm          1   \n",
       "98  2.33              388         Business           Dorm          4   \n",
       "99  2.65              194     Liberal Arts     Off-campus          0   \n",
       "\n",
       "    Part-Time Work Hours Attends Office Hours  High School GPA  \n",
       "0                     35            Sometimes             3.23  \n",
       "1                     30                Never             2.35  \n",
       "2                     25                Never             3.95  \n",
       "3                     30            Sometimes             3.44  \n",
       "4                     25            Sometimes             3.20  \n",
       "..                   ...                  ...              ...  \n",
       "95                    35            Sometimes             3.09  \n",
       "96                    30            Regularly             2.62  \n",
       "97                    20            Regularly             3.01  \n",
       "98                    20            Regularly             3.13  \n",
       "99                    30            Sometimes             3.62  \n",
       "\n",
       "[100 rows x 8 columns]"
      ]
     },
     "execution_count": 3,
     "metadata": {},
     "output_type": "execute_result"
    }
   ],
   "source": [
    "df"
   ]
  },
  {
   "cell_type": "code",
   "execution_count": 4,
   "metadata": {},
   "outputs": [
    {
     "data": {
      "text/plain": [
       "5    22\n",
       "1    18\n",
       "4    17\n",
       "0    17\n",
       "2    15\n",
       "3    11\n",
       "Name: Years Off, dtype: int64"
      ]
     },
     "execution_count": 4,
     "metadata": {},
     "output_type": "execute_result"
    }
   ],
   "source": [
    "df['Years Off'].value_counts()"
   ]
  },
  {
   "cell_type": "markdown",
   "metadata": {},
   "source": [
    "#### Check data"
   ]
  },
  {
   "cell_type": "code",
   "execution_count": 5,
   "metadata": {},
   "outputs": [
    {
     "data": {
      "text/plain": [
       "(100, 8)"
      ]
     },
     "execution_count": 5,
     "metadata": {},
     "output_type": "execute_result"
    }
   ],
   "source": [
    "# Shape of data\n",
    "df.shape"
   ]
  },
  {
   "cell_type": "markdown",
   "metadata": {},
   "source": [
    "Shape of data has 100 row and 8 columns."
   ]
  },
  {
   "cell_type": "code",
   "execution_count": 6,
   "metadata": {},
   "outputs": [
    {
     "data": {
      "text/plain": [
       "GPA                     0\n",
       "Miles from Home         0\n",
       "College                 0\n",
       "Accommodations          0\n",
       "Years Off               0\n",
       "Part-Time Work Hours    0\n",
       "Attends Office Hours    0\n",
       "High School GPA         0\n",
       "dtype: int64"
      ]
     },
     "execution_count": 6,
     "metadata": {},
     "output_type": "execute_result"
    }
   ],
   "source": [
    "# Null values of data\n",
    "df.isna().sum()"
   ]
  },
  {
   "cell_type": "markdown",
   "metadata": {},
   "source": [
    "There is no any missing value in dataset"
   ]
  },
  {
   "cell_type": "code",
   "execution_count": 7,
   "metadata": {},
   "outputs": [
    {
     "data": {
      "text/html": [
       "<div>\n",
       "<style scoped>\n",
       "    .dataframe tbody tr th:only-of-type {\n",
       "        vertical-align: middle;\n",
       "    }\n",
       "\n",
       "    .dataframe tbody tr th {\n",
       "        vertical-align: top;\n",
       "    }\n",
       "\n",
       "    .dataframe thead th {\n",
       "        text-align: right;\n",
       "    }\n",
       "</style>\n",
       "<table border=\"1\" class=\"dataframe\">\n",
       "  <thead>\n",
       "    <tr style=\"text-align: right;\">\n",
       "      <th></th>\n",
       "      <th>GPA</th>\n",
       "      <th>Miles from Home</th>\n",
       "      <th>Years Off</th>\n",
       "      <th>Part-Time Work Hours</th>\n",
       "      <th>High School GPA</th>\n",
       "    </tr>\n",
       "  </thead>\n",
       "  <tbody>\n",
       "    <tr>\n",
       "      <th>count</th>\n",
       "      <td>100.000000</td>\n",
       "      <td>100.000000</td>\n",
       "      <td>100.000000</td>\n",
       "      <td>100.000000</td>\n",
       "      <td>100.000000</td>\n",
       "    </tr>\n",
       "    <tr>\n",
       "      <th>mean</th>\n",
       "      <td>2.216300</td>\n",
       "      <td>259.590000</td>\n",
       "      <td>2.590000</td>\n",
       "      <td>19.900000</td>\n",
       "      <td>3.012400</td>\n",
       "    </tr>\n",
       "    <tr>\n",
       "      <th>std</th>\n",
       "      <td>0.889653</td>\n",
       "      <td>147.238561</td>\n",
       "      <td>1.820728</td>\n",
       "      <td>12.572617</td>\n",
       "      <td>0.390925</td>\n",
       "    </tr>\n",
       "    <tr>\n",
       "      <th>min</th>\n",
       "      <td>0.120000</td>\n",
       "      <td>4.000000</td>\n",
       "      <td>0.000000</td>\n",
       "      <td>0.000000</td>\n",
       "      <td>2.140000</td>\n",
       "    </tr>\n",
       "    <tr>\n",
       "      <th>25%</th>\n",
       "      <td>1.665000</td>\n",
       "      <td>143.000000</td>\n",
       "      <td>1.000000</td>\n",
       "      <td>10.000000</td>\n",
       "      <td>2.737500</td>\n",
       "    </tr>\n",
       "    <tr>\n",
       "      <th>50%</th>\n",
       "      <td>2.180000</td>\n",
       "      <td>232.000000</td>\n",
       "      <td>2.500000</td>\n",
       "      <td>20.000000</td>\n",
       "      <td>3.075000</td>\n",
       "    </tr>\n",
       "    <tr>\n",
       "      <th>75%</th>\n",
       "      <td>2.842500</td>\n",
       "      <td>399.000000</td>\n",
       "      <td>4.000000</td>\n",
       "      <td>30.000000</td>\n",
       "      <td>3.230000</td>\n",
       "    </tr>\n",
       "    <tr>\n",
       "      <th>max</th>\n",
       "      <td>3.900000</td>\n",
       "      <td>494.000000</td>\n",
       "      <td>5.000000</td>\n",
       "      <td>40.000000</td>\n",
       "      <td>3.990000</td>\n",
       "    </tr>\n",
       "  </tbody>\n",
       "</table>\n",
       "</div>"
      ],
      "text/plain": [
       "              GPA  Miles from Home   Years Off  Part-Time Work Hours  \\\n",
       "count  100.000000       100.000000  100.000000            100.000000   \n",
       "mean     2.216300       259.590000    2.590000             19.900000   \n",
       "std      0.889653       147.238561    1.820728             12.572617   \n",
       "min      0.120000         4.000000    0.000000              0.000000   \n",
       "25%      1.665000       143.000000    1.000000             10.000000   \n",
       "50%      2.180000       232.000000    2.500000             20.000000   \n",
       "75%      2.842500       399.000000    4.000000             30.000000   \n",
       "max      3.900000       494.000000    5.000000             40.000000   \n",
       "\n",
       "       High School GPA  \n",
       "count       100.000000  \n",
       "mean          3.012400  \n",
       "std           0.390925  \n",
       "min           2.140000  \n",
       "25%           2.737500  \n",
       "50%           3.075000  \n",
       "75%           3.230000  \n",
       "max           3.990000  "
      ]
     },
     "execution_count": 7,
     "metadata": {},
     "output_type": "execute_result"
    }
   ],
   "source": [
    "# Statistical Summary\n",
    "df.describe()"
   ]
  },
  {
   "cell_type": "markdown",
   "metadata": {},
   "source": [
    "We see that min age is less than 1 and max age up to 4. \n",
    "\n",
    "Min miles from home is 4 of min and max is 494. altough min age is 4, 1/4 section of dataset has 143.\n",
    "\n",
    "Years off, min is less than 1 and max is 5."
   ]
  },
  {
   "cell_type": "markdown",
   "metadata": {},
   "source": [
    "## Exploratory Data Analysis"
   ]
  },
  {
   "cell_type": "markdown",
   "metadata": {},
   "source": [
    "A Jointplot comprises three plots. Out of the three, one plot displays a bivariate graph which shows how the dependent variable(Y) varies with the independent variable(X). Another plot is placed horizontally at the top of the bivariate graph and it shows the distribution of the independent variable(X)."
   ]
  },
  {
   "cell_type": "code",
   "execution_count": 8,
   "metadata": {},
   "outputs": [
    {
     "data": {
      "text/plain": [
       "<seaborn.axisgrid.JointGrid at 0x2b1296a0>"
      ]
     },
     "execution_count": 8,
     "metadata": {},
     "output_type": "execute_result"
    },
    {
     "data": {
      "image/png": "[encoded data removed]",
      "text/plain": [
       "<Figure size 432x432 with 3 Axes>"
      ]
     },
     "metadata": {
      "needs_background": "light"
     },
     "output_type": "display_data"
    }
   ],
   "source": [
    "sns.jointplot(x='High School GPA',y ='GPA', data = df)"
   ]
  },
  {
   "cell_type": "markdown",
   "metadata": {},
   "source": [
    "The Jointplot shows us GPA and High School GPA relation. Mean of both features has high value."
   ]
  },
  {
   "cell_type": "code",
   "execution_count": 9,
   "metadata": {},
   "outputs": [
    {
     "data": {
      "text/plain": [
       "<seaborn.axisgrid.JointGrid at 0x2d3e6c40>"
      ]
     },
     "execution_count": 9,
     "metadata": {},
     "output_type": "execute_result"
    },
    {
     "data": {
      "image/png": "[encoded data removed]",
      "text/plain": [
       "<Figure size 432x432 with 3 Axes>"
      ]
     },
     "metadata": {
      "needs_background": "light"
     },
     "output_type": "display_data"
    }
   ],
   "source": [
    "sns.jointplot(x='Miles from Home',y ='GPA', data = df)"
   ]
  },
  {
   "cell_type": "markdown",
   "metadata": {},
   "source": [
    "The relation for GPA and Miles from Home."
   ]
  },
  {
   "cell_type": "code",
   "execution_count": 10,
   "metadata": {},
   "outputs": [
    {
     "data": {
      "text/plain": [
       "<seaborn.axisgrid.JointGrid at 0x2d4ffca0>"
      ]
     },
     "execution_count": 10,
     "metadata": {},
     "output_type": "execute_result"
    },
    {
     "data": {
      "image/png": "[encoded data removed]",
      "text/plain": [
       "<Figure size 432x432 with 3 Axes>"
      ]
     },
     "metadata": {
      "needs_background": "light"
     },
     "output_type": "display_data"
    }
   ],
   "source": [
    "sns.jointplot(x='Part-Time Work Hours',y ='GPA', data = df,kind='hex')"
   ]
  },
  {
   "cell_type": "markdown",
   "metadata": {},
   "source": [
    "Using hex visualtion tyoe and view relation for GPA and Part-Time Work Hours relation."
   ]
  },
  {
   "cell_type": "code",
   "execution_count": 11,
   "metadata": {},
   "outputs": [
    {
     "data": {
      "text/plain": [
       "<seaborn.axisgrid.PairGrid at 0x2b1bd820>"
      ]
     },
     "execution_count": 11,
     "metadata": {},
     "output_type": "execute_result"
    },
    {
     "data": {
      "image/png": "[encoded data removed]",
      "text/plain": [
       "<Figure size 720x720 with 30 Axes>"
      ]
     },
     "metadata": {
      "needs_background": "light"
     },
     "output_type": "display_data"
    }
   ],
   "source": [
    "sns.pairplot(df, height=2, aspect=1,)"
   ]
  },
  {
   "cell_type": "markdown",
   "metadata": {},
   "source": [
    "A pairplot plot a pairwise relationships in a dataset. The pairplot function creates a grid of Axes such that each variable in data will by shared in the y-axis across a single row and in the x-axis across a single column. That creates plots as shown above."
   ]
  },
  {
   "cell_type": "markdown",
   "metadata": {},
   "source": [
    "# Data Processing"
   ]
  },
  {
   "cell_type": "code",
   "execution_count": 12,
   "metadata": {},
   "outputs": [
    {
     "data": {
      "text/plain": [
       "GPA                     float64\n",
       "Miles from Home           int64\n",
       "College                  object\n",
       "Accommodations           object\n",
       "Years Off                 int64\n",
       "Part-Time Work Hours      int64\n",
       "Attends Office Hours     object\n",
       "High School GPA         float64\n",
       "dtype: object"
      ]
     },
     "execution_count": 12,
     "metadata": {},
     "output_type": "execute_result"
    }
   ],
   "source": [
    "# Type of data\n",
    "df.dtypes"
   ]
  },
  {
   "cell_type": "markdown",
   "metadata": {},
   "source": [
    "Dataset has some categorical features, need to convert numerical values. For this l used dummy fuction."
   ]
  },
  {
   "cell_type": "code",
   "execution_count": 13,
   "metadata": {},
   "outputs": [],
   "source": [
    "# Encoding object Data\n",
    "# Chnage type of object data to category\n",
    "df['College'] = df['College'].astype('category')\n",
    "df['College'] = df['College'].cat.codes\n",
    "df['Accommodations'] = df['Accommodations'].astype('category')"
   ]
  },
  {
   "cell_type": "code",
   "execution_count": 14,
   "metadata": {},
   "outputs": [
    {
     "data": {
      "text/html": [
       "<div>\n",
       "<style scoped>\n",
       "    .dataframe tbody tr th:only-of-type {\n",
       "        vertical-align: middle;\n",
       "    }\n",
       "\n",
       "    .dataframe tbody tr th {\n",
       "        vertical-align: top;\n",
       "    }\n",
       "\n",
       "    .dataframe thead th {\n",
       "        text-align: right;\n",
       "    }\n",
       "</style>\n",
       "<table border=\"1\" class=\"dataframe\">\n",
       "  <thead>\n",
       "    <tr style=\"text-align: right;\">\n",
       "      <th></th>\n",
       "      <th>GPA</th>\n",
       "      <th>Miles from Home</th>\n",
       "      <th>College</th>\n",
       "      <th>Years Off</th>\n",
       "      <th>Part-Time Work Hours</th>\n",
       "      <th>High School GPA</th>\n",
       "      <th>Accommodations_Off-campus</th>\n",
       "      <th>Accommodations_Other</th>\n",
       "      <th>Attends Office Hours_Regularly</th>\n",
       "      <th>Attends Office Hours_Sometimes</th>\n",
       "    </tr>\n",
       "  </thead>\n",
       "  <tbody>\n",
       "    <tr>\n",
       "      <th>0</th>\n",
       "      <td>0.73</td>\n",
       "      <td>253</td>\n",
       "      <td>4</td>\n",
       "      <td>4</td>\n",
       "      <td>35</td>\n",
       "      <td>3.23</td>\n",
       "      <td>0</td>\n",
       "      <td>0</td>\n",
       "      <td>0</td>\n",
       "      <td>1</td>\n",
       "    </tr>\n",
       "    <tr>\n",
       "      <th>1</th>\n",
       "      <td>1.60</td>\n",
       "      <td>143</td>\n",
       "      <td>4</td>\n",
       "      <td>5</td>\n",
       "      <td>30</td>\n",
       "      <td>2.35</td>\n",
       "      <td>0</td>\n",
       "      <td>0</td>\n",
       "      <td>0</td>\n",
       "      <td>0</td>\n",
       "    </tr>\n",
       "    <tr>\n",
       "      <th>2</th>\n",
       "      <td>2.17</td>\n",
       "      <td>171</td>\n",
       "      <td>4</td>\n",
       "      <td>0</td>\n",
       "      <td>25</td>\n",
       "      <td>3.95</td>\n",
       "      <td>0</td>\n",
       "      <td>0</td>\n",
       "      <td>0</td>\n",
       "      <td>0</td>\n",
       "    </tr>\n",
       "    <tr>\n",
       "      <th>3</th>\n",
       "      <td>1.02</td>\n",
       "      <td>332</td>\n",
       "      <td>3</td>\n",
       "      <td>5</td>\n",
       "      <td>30</td>\n",
       "      <td>3.44</td>\n",
       "      <td>1</td>\n",
       "      <td>0</td>\n",
       "      <td>0</td>\n",
       "      <td>1</td>\n",
       "    </tr>\n",
       "    <tr>\n",
       "      <th>4</th>\n",
       "      <td>3.14</td>\n",
       "      <td>112</td>\n",
       "      <td>0</td>\n",
       "      <td>0</td>\n",
       "      <td>25</td>\n",
       "      <td>3.20</td>\n",
       "      <td>0</td>\n",
       "      <td>0</td>\n",
       "      <td>0</td>\n",
       "      <td>1</td>\n",
       "    </tr>\n",
       "  </tbody>\n",
       "</table>\n",
       "</div>"
      ],
      "text/plain": [
       "    GPA  Miles from Home  College  Years Off  Part-Time Work Hours  \\\n",
       "0  0.73              253        4          4                    35   \n",
       "1  1.60              143        4          5                    30   \n",
       "2  2.17              171        4          0                    25   \n",
       "3  1.02              332        3          5                    30   \n",
       "4  3.14              112        0          0                    25   \n",
       "\n",
       "   High School GPA  Accommodations_Off-campus  Accommodations_Other  \\\n",
       "0             3.23                          0                     0   \n",
       "1             2.35                          0                     0   \n",
       "2             3.95                          0                     0   \n",
       "3             3.44                          1                     0   \n",
       "4             3.20                          0                     0   \n",
       "\n",
       "   Attends Office Hours_Regularly  Attends Office Hours_Sometimes  \n",
       "0                               0                               1  \n",
       "1                               0                               0  \n",
       "2                               0                               0  \n",
       "3                               0                               1  \n",
       "4                               0                               1  "
      ]
     },
     "execution_count": 14,
     "metadata": {},
     "output_type": "execute_result"
    }
   ],
   "source": [
    "\n",
    "df_dummies=pd.get_dummies(df,drop_first=True)\n",
    "\n",
    "# Display top 5 records\n",
    "df_dummies.head()"
   ]
  },
  {
   "cell_type": "markdown",
   "metadata": {},
   "source": [
    "A dummy variable is a variable that takes values of 0 and 1, where the values indicate the presence or absence of something. Where a categorical variable has more than two categories, it can be represented by a set of dummy variables, with one variable for each category. "
   ]
  },
  {
   "cell_type": "markdown",
   "metadata": {},
   "source": [
    "Compute coorrelation between fratures."
   ]
  },
  {
   "cell_type": "code",
   "execution_count": 15,
   "metadata": {},
   "outputs": [
    {
     "data": {
      "text/html": [
       "<style  type=\"text/css\" >\n",
       "#T_48ae54b0_80e3_11ec_9137_84a6c8a989e4row0_col0,#T_48ae54b0_80e3_11ec_9137_84a6c8a989e4row1_col1,#T_48ae54b0_80e3_11ec_9137_84a6c8a989e4row2_col2,#T_48ae54b0_80e3_11ec_9137_84a6c8a989e4row3_col3,#T_48ae54b0_80e3_11ec_9137_84a6c8a989e4row4_col4,#T_48ae54b0_80e3_11ec_9137_84a6c8a989e4row5_col5,#T_48ae54b0_80e3_11ec_9137_84a6c8a989e4row6_col6,#T_48ae54b0_80e3_11ec_9137_84a6c8a989e4row7_col7,#T_48ae54b0_80e3_11ec_9137_84a6c8a989e4row8_col8,#T_48ae54b0_80e3_11ec_9137_84a6c8a989e4row9_col9{\n",
       "            background-color:  #b40426;\n",
       "            color:  #f1f1f1;\n",
       "        }#T_48ae54b0_80e3_11ec_9137_84a6c8a989e4row0_col1{\n",
       "            background-color:  #3c4ec2;\n",
       "            color:  #f1f1f1;\n",
       "        }#T_48ae54b0_80e3_11ec_9137_84a6c8a989e4row0_col2{\n",
       "            background-color:  #6788ee;\n",
       "            color:  #000000;\n",
       "        }#T_48ae54b0_80e3_11ec_9137_84a6c8a989e4row0_col3{\n",
       "            background-color:  #81a4fb;\n",
       "            color:  #000000;\n",
       "        }#T_48ae54b0_80e3_11ec_9137_84a6c8a989e4row0_col4,#T_48ae54b0_80e3_11ec_9137_84a6c8a989e4row8_col2{\n",
       "            background-color:  #6c8ff1;\n",
       "            color:  #000000;\n",
       "        }#T_48ae54b0_80e3_11ec_9137_84a6c8a989e4row0_col5,#T_48ae54b0_80e3_11ec_9137_84a6c8a989e4row9_col7{\n",
       "            background-color:  #aac7fd;\n",
       "            color:  #000000;\n",
       "        }#T_48ae54b0_80e3_11ec_9137_84a6c8a989e4row0_col6{\n",
       "            background-color:  #7597f6;\n",
       "            color:  #000000;\n",
       "        }#T_48ae54b0_80e3_11ec_9137_84a6c8a989e4row0_col7,#T_48ae54b0_80e3_11ec_9137_84a6c8a989e4row8_col3{\n",
       "            background-color:  #7ea1fa;\n",
       "            color:  #000000;\n",
       "        }#T_48ae54b0_80e3_11ec_9137_84a6c8a989e4row0_col8{\n",
       "            background-color:  #eed0c0;\n",
       "            color:  #000000;\n",
       "        }#T_48ae54b0_80e3_11ec_9137_84a6c8a989e4row0_col9{\n",
       "            background-color:  #8fb1fe;\n",
       "            color:  #000000;\n",
       "        }#T_48ae54b0_80e3_11ec_9137_84a6c8a989e4row1_col0,#T_48ae54b0_80e3_11ec_9137_84a6c8a989e4row1_col4,#T_48ae54b0_80e3_11ec_9137_84a6c8a989e4row3_col5,#T_48ae54b0_80e3_11ec_9137_84a6c8a989e4row4_col1,#T_48ae54b0_80e3_11ec_9137_84a6c8a989e4row5_col2,#T_48ae54b0_80e3_11ec_9137_84a6c8a989e4row5_col3,#T_48ae54b0_80e3_11ec_9137_84a6c8a989e4row6_col7,#T_48ae54b0_80e3_11ec_9137_84a6c8a989e4row7_col6,#T_48ae54b0_80e3_11ec_9137_84a6c8a989e4row8_col9,#T_48ae54b0_80e3_11ec_9137_84a6c8a989e4row9_col8{\n",
       "            background-color:  #3b4cc0;\n",
       "            color:  #f1f1f1;\n",
       "        }#T_48ae54b0_80e3_11ec_9137_84a6c8a989e4row1_col2,#T_48ae54b0_80e3_11ec_9137_84a6c8a989e4row4_col7{\n",
       "            background-color:  #7295f4;\n",
       "            color:  #000000;\n",
       "        }#T_48ae54b0_80e3_11ec_9137_84a6c8a989e4row1_col3,#T_48ae54b0_80e3_11ec_9137_84a6c8a989e4row2_col8{\n",
       "            background-color:  #b5cdfa;\n",
       "            color:  #000000;\n",
       "        }#T_48ae54b0_80e3_11ec_9137_84a6c8a989e4row1_col5,#T_48ae54b0_80e3_11ec_9137_84a6c8a989e4row4_col2{\n",
       "            background-color:  #7da0f9;\n",
       "            color:  #000000;\n",
       "        }#T_48ae54b0_80e3_11ec_9137_84a6c8a989e4row1_col6,#T_48ae54b0_80e3_11ec_9137_84a6c8a989e4row6_col9{\n",
       "            background-color:  #90b2fe;\n",
       "            color:  #000000;\n",
       "        }#T_48ae54b0_80e3_11ec_9137_84a6c8a989e4row1_col7{\n",
       "            background-color:  #b6cefa;\n",
       "            color:  #000000;\n",
       "        }#T_48ae54b0_80e3_11ec_9137_84a6c8a989e4row1_col8,#T_48ae54b0_80e3_11ec_9137_84a6c8a989e4row7_col1{\n",
       "            background-color:  #9abbff;\n",
       "            color:  #000000;\n",
       "        }#T_48ae54b0_80e3_11ec_9137_84a6c8a989e4row1_col9{\n",
       "            background-color:  #adc9fd;\n",
       "            color:  #000000;\n",
       "        }#T_48ae54b0_80e3_11ec_9137_84a6c8a989e4row2_col0,#T_48ae54b0_80e3_11ec_9137_84a6c8a989e4row9_col4,#T_48ae54b0_80e3_11ec_9137_84a6c8a989e4row9_col6{\n",
       "            background-color:  #7b9ff9;\n",
       "            color:  #000000;\n",
       "        }#T_48ae54b0_80e3_11ec_9137_84a6c8a989e4row2_col1{\n",
       "            background-color:  #88abfd;\n",
       "            color:  #000000;\n",
       "        }#T_48ae54b0_80e3_11ec_9137_84a6c8a989e4row2_col3,#T_48ae54b0_80e3_11ec_9137_84a6c8a989e4row2_col7,#T_48ae54b0_80e3_11ec_9137_84a6c8a989e4row9_col3{\n",
       "            background-color:  #8caffe;\n",
       "            color:  #000000;\n",
       "        }#T_48ae54b0_80e3_11ec_9137_84a6c8a989e4row2_col4,#T_48ae54b0_80e3_11ec_9137_84a6c8a989e4row5_col7{\n",
       "            background-color:  #93b5fe;\n",
       "            color:  #000000;\n",
       "        }#T_48ae54b0_80e3_11ec_9137_84a6c8a989e4row2_col5{\n",
       "            background-color:  #6180e9;\n",
       "            color:  #000000;\n",
       "        }#T_48ae54b0_80e3_11ec_9137_84a6c8a989e4row2_col6{\n",
       "            background-color:  #92b4fe;\n",
       "            color:  #000000;\n",
       "        }#T_48ae54b0_80e3_11ec_9137_84a6c8a989e4row2_col9,#T_48ae54b0_80e3_11ec_9137_84a6c8a989e4row5_col0,#T_48ae54b0_80e3_11ec_9137_84a6c8a989e4row8_col5{\n",
       "            background-color:  #9bbcff;\n",
       "            color:  #000000;\n",
       "        }#T_48ae54b0_80e3_11ec_9137_84a6c8a989e4row3_col0{\n",
       "            background-color:  #6f92f3;\n",
       "            color:  #000000;\n",
       "        }#T_48ae54b0_80e3_11ec_9137_84a6c8a989e4row3_col1{\n",
       "            background-color:  #a9c6fd;\n",
       "            color:  #000000;\n",
       "        }#T_48ae54b0_80e3_11ec_9137_84a6c8a989e4row3_col2{\n",
       "            background-color:  #6687ed;\n",
       "            color:  #000000;\n",
       "        }#T_48ae54b0_80e3_11ec_9137_84a6c8a989e4row3_col4{\n",
       "            background-color:  #6485ec;\n",
       "            color:  #000000;\n",
       "        }#T_48ae54b0_80e3_11ec_9137_84a6c8a989e4row3_col6{\n",
       "            background-color:  #a6c4fe;\n",
       "            color:  #000000;\n",
       "        }#T_48ae54b0_80e3_11ec_9137_84a6c8a989e4row3_col7,#T_48ae54b0_80e3_11ec_9137_84a6c8a989e4row9_col5{\n",
       "            background-color:  #96b7ff;\n",
       "            color:  #000000;\n",
       "        }#T_48ae54b0_80e3_11ec_9137_84a6c8a989e4row3_col8{\n",
       "            background-color:  #a5c3fe;\n",
       "            color:  #000000;\n",
       "        }#T_48ae54b0_80e3_11ec_9137_84a6c8a989e4row3_col9{\n",
       "            background-color:  #b1cbfc;\n",
       "            color:  #000000;\n",
       "        }#T_48ae54b0_80e3_11ec_9137_84a6c8a989e4row4_col0{\n",
       "            background-color:  #6a8bef;\n",
       "            color:  #000000;\n",
       "        }#T_48ae54b0_80e3_11ec_9137_84a6c8a989e4row4_col3{\n",
       "            background-color:  #7396f5;\n",
       "            color:  #000000;\n",
       "        }#T_48ae54b0_80e3_11ec_9137_84a6c8a989e4row4_col5,#T_48ae54b0_80e3_11ec_9137_84a6c8a989e4row9_col1{\n",
       "            background-color:  #799cf8;\n",
       "            color:  #000000;\n",
       "        }#T_48ae54b0_80e3_11ec_9137_84a6c8a989e4row4_col6,#T_48ae54b0_80e3_11ec_9137_84a6c8a989e4row8_col7{\n",
       "            background-color:  #b3cdfb;\n",
       "            color:  #000000;\n",
       "        }#T_48ae54b0_80e3_11ec_9137_84a6c8a989e4row4_col8,#T_48ae54b0_80e3_11ec_9137_84a6c8a989e4row7_col5{\n",
       "            background-color:  #80a3fa;\n",
       "            color:  #000000;\n",
       "        }#T_48ae54b0_80e3_11ec_9137_84a6c8a989e4row4_col9{\n",
       "            background-color:  #afcafc;\n",
       "            color:  #000000;\n",
       "        }#T_48ae54b0_80e3_11ec_9137_84a6c8a989e4row5_col1,#T_48ae54b0_80e3_11ec_9137_84a6c8a989e4row6_col1{\n",
       "            background-color:  #6e90f2;\n",
       "            color:  #000000;\n",
       "        }#T_48ae54b0_80e3_11ec_9137_84a6c8a989e4row5_col4,#T_48ae54b0_80e3_11ec_9137_84a6c8a989e4row5_col6{\n",
       "            background-color:  #688aef;\n",
       "            color:  #000000;\n",
       "        }#T_48ae54b0_80e3_11ec_9137_84a6c8a989e4row5_col8{\n",
       "            background-color:  #bed2f6;\n",
       "            color:  #000000;\n",
       "        }#T_48ae54b0_80e3_11ec_9137_84a6c8a989e4row5_col9{\n",
       "            background-color:  #b9d0f9;\n",
       "            color:  #000000;\n",
       "        }#T_48ae54b0_80e3_11ec_9137_84a6c8a989e4row6_col0,#T_48ae54b0_80e3_11ec_9137_84a6c8a989e4row7_col4{\n",
       "            background-color:  #4e68d8;\n",
       "            color:  #000000;\n",
       "        }#T_48ae54b0_80e3_11ec_9137_84a6c8a989e4row6_col2,#T_48ae54b0_80e3_11ec_9137_84a6c8a989e4row7_col0{\n",
       "            background-color:  #5977e3;\n",
       "            color:  #000000;\n",
       "        }#T_48ae54b0_80e3_11ec_9137_84a6c8a989e4row6_col3{\n",
       "            background-color:  #94b6ff;\n",
       "            color:  #000000;\n",
       "        }#T_48ae54b0_80e3_11ec_9137_84a6c8a989e4row6_col4{\n",
       "            background-color:  #97b8ff;\n",
       "            color:  #000000;\n",
       "        }#T_48ae54b0_80e3_11ec_9137_84a6c8a989e4row6_col5{\n",
       "            background-color:  #5572df;\n",
       "            color:  #000000;\n",
       "        }#T_48ae54b0_80e3_11ec_9137_84a6c8a989e4row6_col8{\n",
       "            background-color:  #8db0fe;\n",
       "            color:  #000000;\n",
       "        }#T_48ae54b0_80e3_11ec_9137_84a6c8a989e4row7_col2{\n",
       "            background-color:  #516ddb;\n",
       "            color:  #000000;\n",
       "        }#T_48ae54b0_80e3_11ec_9137_84a6c8a989e4row7_col3{\n",
       "            background-color:  #82a6fb;\n",
       "            color:  #000000;\n",
       "        }#T_48ae54b0_80e3_11ec_9137_84a6c8a989e4row7_col8{\n",
       "            background-color:  #c3d5f4;\n",
       "            color:  #000000;\n",
       "        }#T_48ae54b0_80e3_11ec_9137_84a6c8a989e4row7_col9{\n",
       "            background-color:  #bbd1f8;\n",
       "            color:  #000000;\n",
       "        }#T_48ae54b0_80e3_11ec_9137_84a6c8a989e4row8_col0{\n",
       "            background-color:  #d7dce3;\n",
       "            color:  #000000;\n",
       "        }#T_48ae54b0_80e3_11ec_9137_84a6c8a989e4row8_col1{\n",
       "            background-color:  #6282ea;\n",
       "            color:  #000000;\n",
       "        }#T_48ae54b0_80e3_11ec_9137_84a6c8a989e4row8_col4{\n",
       "            background-color:  #455cce;\n",
       "            color:  #f1f1f1;\n",
       "        }#T_48ae54b0_80e3_11ec_9137_84a6c8a989e4row8_col6{\n",
       "            background-color:  #779af7;\n",
       "            color:  #000000;\n",
       "        }#T_48ae54b0_80e3_11ec_9137_84a6c8a989e4row9_col0{\n",
       "            background-color:  #536edd;\n",
       "            color:  #000000;\n",
       "        }#T_48ae54b0_80e3_11ec_9137_84a6c8a989e4row9_col2{\n",
       "            background-color:  #4c66d6;\n",
       "            color:  #000000;\n",
       "        }</style><table id=\"T_48ae54b0_80e3_11ec_9137_84a6c8a989e4\" ><thead>    <tr>        <th class=\"blank level0\" ></th>        <th class=\"col_heading level0 col0\" >GPA</th>        <th class=\"col_heading level0 col1\" >Miles from Home</th>        <th class=\"col_heading level0 col2\" >College</th>        <th class=\"col_heading level0 col3\" >Years Off</th>        <th class=\"col_heading level0 col4\" >Part-Time Work Hours</th>        <th class=\"col_heading level0 col5\" >High School GPA</th>        <th class=\"col_heading level0 col6\" >Accommodations_Off-campus</th>        <th class=\"col_heading level0 col7\" >Accommodations_Other</th>        <th class=\"col_heading level0 col8\" >Attends Office Hours_Regularly</th>        <th class=\"col_heading level0 col9\" >Attends Office Hours_Sometimes</th>    </tr></thead><tbody>\n",
       "                <tr>\n",
       "                        <th id=\"T_48ae54b0_80e3_11ec_9137_84a6c8a989e4level0_row0\" class=\"row_heading level0 row0\" >GPA</th>\n",
       "                        <td id=\"T_48ae54b0_80e3_11ec_9137_84a6c8a989e4row0_col0\" class=\"data row0 col0\" >1.00</td>\n",
       "                        <td id=\"T_48ae54b0_80e3_11ec_9137_84a6c8a989e4row0_col1\" class=\"data row0 col1\" >-0.21</td>\n",
       "                        <td id=\"T_48ae54b0_80e3_11ec_9137_84a6c8a989e4row0_col2\" class=\"data row0 col2\" >0.04</td>\n",
       "                        <td id=\"T_48ae54b0_80e3_11ec_9137_84a6c8a989e4row0_col3\" class=\"data row0 col3\" >-0.01</td>\n",
       "                        <td id=\"T_48ae54b0_80e3_11ec_9137_84a6c8a989e4row0_col4\" class=\"data row0 col4\" >-0.02</td>\n",
       "                        <td id=\"T_48ae54b0_80e3_11ec_9137_84a6c8a989e4row0_col5\" class=\"data row0 col5\" >0.15</td>\n",
       "                        <td id=\"T_48ae54b0_80e3_11ec_9137_84a6c8a989e4row0_col6\" class=\"data row0 col6\" >-0.13</td>\n",
       "                        <td id=\"T_48ae54b0_80e3_11ec_9137_84a6c8a989e4row0_col7\" class=\"data row0 col7\" >-0.09</td>\n",
       "                        <td id=\"T_48ae54b0_80e3_11ec_9137_84a6c8a989e4row0_col8\" class=\"data row0 col8\" >0.37</td>\n",
       "                        <td id=\"T_48ae54b0_80e3_11ec_9137_84a6c8a989e4row0_col9\" class=\"data row0 col9\" >-0.11</td>\n",
       "            </tr>\n",
       "            <tr>\n",
       "                        <th id=\"T_48ae54b0_80e3_11ec_9137_84a6c8a989e4level0_row1\" class=\"row_heading level0 row1\" >Miles from Home</th>\n",
       "                        <td id=\"T_48ae54b0_80e3_11ec_9137_84a6c8a989e4row1_col0\" class=\"data row1 col0\" >-0.21</td>\n",
       "                        <td id=\"T_48ae54b0_80e3_11ec_9137_84a6c8a989e4row1_col1\" class=\"data row1 col1\" >1.00</td>\n",
       "                        <td id=\"T_48ae54b0_80e3_11ec_9137_84a6c8a989e4row1_col2\" class=\"data row1 col2\" >0.07</td>\n",
       "                        <td id=\"T_48ae54b0_80e3_11ec_9137_84a6c8a989e4row1_col3\" class=\"data row1 col3\" >0.18</td>\n",
       "                        <td id=\"T_48ae54b0_80e3_11ec_9137_84a6c8a989e4row1_col4\" class=\"data row1 col4\" >-0.21</td>\n",
       "                        <td id=\"T_48ae54b0_80e3_11ec_9137_84a6c8a989e4row1_col5\" class=\"data row1 col5\" >-0.02</td>\n",
       "                        <td id=\"T_48ae54b0_80e3_11ec_9137_84a6c8a989e4row1_col6\" class=\"data row1 col6\" >-0.02</td>\n",
       "                        <td id=\"T_48ae54b0_80e3_11ec_9137_84a6c8a989e4row1_col7\" class=\"data row1 col7\" >0.13</td>\n",
       "                        <td id=\"T_48ae54b0_80e3_11ec_9137_84a6c8a989e4row1_col8\" class=\"data row1 col8\" >-0.06</td>\n",
       "                        <td id=\"T_48ae54b0_80e3_11ec_9137_84a6c8a989e4row1_col9\" class=\"data row1 col9\" >0.02</td>\n",
       "            </tr>\n",
       "            <tr>\n",
       "                        <th id=\"T_48ae54b0_80e3_11ec_9137_84a6c8a989e4level0_row2\" class=\"row_heading level0 row2\" >College</th>\n",
       "                        <td id=\"T_48ae54b0_80e3_11ec_9137_84a6c8a989e4row2_col0\" class=\"data row2 col0\" >0.04</td>\n",
       "                        <td id=\"T_48ae54b0_80e3_11ec_9137_84a6c8a989e4row2_col1\" class=\"data row2 col1\" >0.07</td>\n",
       "                        <td id=\"T_48ae54b0_80e3_11ec_9137_84a6c8a989e4row2_col2\" class=\"data row2 col2\" >1.00</td>\n",
       "                        <td id=\"T_48ae54b0_80e3_11ec_9137_84a6c8a989e4row2_col3\" class=\"data row2 col3\" >0.03</td>\n",
       "                        <td id=\"T_48ae54b0_80e3_11ec_9137_84a6c8a989e4row2_col4\" class=\"data row2 col4\" >0.11</td>\n",
       "                        <td id=\"T_48ae54b0_80e3_11ec_9137_84a6c8a989e4row2_col5\" class=\"data row2 col5\" >-0.12</td>\n",
       "                        <td id=\"T_48ae54b0_80e3_11ec_9137_84a6c8a989e4row2_col6\" class=\"data row2 col6\" >-0.01</td>\n",
       "                        <td id=\"T_48ae54b0_80e3_11ec_9137_84a6c8a989e4row2_col7\" class=\"data row2 col7\" >-0.04</td>\n",
       "                        <td id=\"T_48ae54b0_80e3_11ec_9137_84a6c8a989e4row2_col8\" class=\"data row2 col8\" >0.06</td>\n",
       "                        <td id=\"T_48ae54b0_80e3_11ec_9137_84a6c8a989e4row2_col9\" class=\"data row2 col9\" >-0.06</td>\n",
       "            </tr>\n",
       "            <tr>\n",
       "                        <th id=\"T_48ae54b0_80e3_11ec_9137_84a6c8a989e4level0_row3\" class=\"row_heading level0 row3\" >Years Off</th>\n",
       "                        <td id=\"T_48ae54b0_80e3_11ec_9137_84a6c8a989e4row3_col0\" class=\"data row3 col0\" >-0.01</td>\n",
       "                        <td id=\"T_48ae54b0_80e3_11ec_9137_84a6c8a989e4row3_col1\" class=\"data row3 col1\" >0.18</td>\n",
       "                        <td id=\"T_48ae54b0_80e3_11ec_9137_84a6c8a989e4row3_col2\" class=\"data row3 col2\" >0.03</td>\n",
       "                        <td id=\"T_48ae54b0_80e3_11ec_9137_84a6c8a989e4row3_col3\" class=\"data row3 col3\" >1.00</td>\n",
       "                        <td id=\"T_48ae54b0_80e3_11ec_9137_84a6c8a989e4row3_col4\" class=\"data row3 col4\" >-0.05</td>\n",
       "                        <td id=\"T_48ae54b0_80e3_11ec_9137_84a6c8a989e4row3_col5\" class=\"data row3 col5\" >-0.28</td>\n",
       "                        <td id=\"T_48ae54b0_80e3_11ec_9137_84a6c8a989e4row3_col6\" class=\"data row3 col6\" >0.07</td>\n",
       "                        <td id=\"T_48ae54b0_80e3_11ec_9137_84a6c8a989e4row3_col7\" class=\"data row3 col7\" >0.00</td>\n",
       "                        <td id=\"T_48ae54b0_80e3_11ec_9137_84a6c8a989e4row3_col8\" class=\"data row3 col8\" >-0.01</td>\n",
       "                        <td id=\"T_48ae54b0_80e3_11ec_9137_84a6c8a989e4row3_col9\" class=\"data row3 col9\" >0.04</td>\n",
       "            </tr>\n",
       "            <tr>\n",
       "                        <th id=\"T_48ae54b0_80e3_11ec_9137_84a6c8a989e4level0_row4\" class=\"row_heading level0 row4\" >Part-Time Work Hours</th>\n",
       "                        <td id=\"T_48ae54b0_80e3_11ec_9137_84a6c8a989e4row4_col0\" class=\"data row4 col0\" >-0.02</td>\n",
       "                        <td id=\"T_48ae54b0_80e3_11ec_9137_84a6c8a989e4row4_col1\" class=\"data row4 col1\" >-0.21</td>\n",
       "                        <td id=\"T_48ae54b0_80e3_11ec_9137_84a6c8a989e4row4_col2\" class=\"data row4 col2\" >0.11</td>\n",
       "                        <td id=\"T_48ae54b0_80e3_11ec_9137_84a6c8a989e4row4_col3\" class=\"data row4 col3\" >-0.05</td>\n",
       "                        <td id=\"T_48ae54b0_80e3_11ec_9137_84a6c8a989e4row4_col4\" class=\"data row4 col4\" >1.00</td>\n",
       "                        <td id=\"T_48ae54b0_80e3_11ec_9137_84a6c8a989e4row4_col5\" class=\"data row4 col5\" >-0.04</td>\n",
       "                        <td id=\"T_48ae54b0_80e3_11ec_9137_84a6c8a989e4row4_col6\" class=\"data row4 col6\" >0.12</td>\n",
       "                        <td id=\"T_48ae54b0_80e3_11ec_9137_84a6c8a989e4row4_col7\" class=\"data row4 col7\" >-0.14</td>\n",
       "                        <td id=\"T_48ae54b0_80e3_11ec_9137_84a6c8a989e4row4_col8\" class=\"data row4 col8\" >-0.17</td>\n",
       "                        <td id=\"T_48ae54b0_80e3_11ec_9137_84a6c8a989e4row4_col9\" class=\"data row4 col9\" >0.03</td>\n",
       "            </tr>\n",
       "            <tr>\n",
       "                        <th id=\"T_48ae54b0_80e3_11ec_9137_84a6c8a989e4level0_row5\" class=\"row_heading level0 row5\" >High School GPA</th>\n",
       "                        <td id=\"T_48ae54b0_80e3_11ec_9137_84a6c8a989e4row5_col0\" class=\"data row5 col0\" >0.15</td>\n",
       "                        <td id=\"T_48ae54b0_80e3_11ec_9137_84a6c8a989e4row5_col1\" class=\"data row5 col1\" >-0.02</td>\n",
       "                        <td id=\"T_48ae54b0_80e3_11ec_9137_84a6c8a989e4row5_col2\" class=\"data row5 col2\" >-0.12</td>\n",
       "                        <td id=\"T_48ae54b0_80e3_11ec_9137_84a6c8a989e4row5_col3\" class=\"data row5 col3\" >-0.28</td>\n",
       "                        <td id=\"T_48ae54b0_80e3_11ec_9137_84a6c8a989e4row5_col4\" class=\"data row5 col4\" >-0.04</td>\n",
       "                        <td id=\"T_48ae54b0_80e3_11ec_9137_84a6c8a989e4row5_col5\" class=\"data row5 col5\" >1.00</td>\n",
       "                        <td id=\"T_48ae54b0_80e3_11ec_9137_84a6c8a989e4row5_col6\" class=\"data row5 col6\" >-0.17</td>\n",
       "                        <td id=\"T_48ae54b0_80e3_11ec_9137_84a6c8a989e4row5_col7\" class=\"data row5 col7\" >-0.01</td>\n",
       "                        <td id=\"T_48ae54b0_80e3_11ec_9137_84a6c8a989e4row5_col8\" class=\"data row5 col8\" >0.09</td>\n",
       "                        <td id=\"T_48ae54b0_80e3_11ec_9137_84a6c8a989e4row5_col9\" class=\"data row5 col9\" >0.07</td>\n",
       "            </tr>\n",
       "            <tr>\n",
       "                        <th id=\"T_48ae54b0_80e3_11ec_9137_84a6c8a989e4level0_row6\" class=\"row_heading level0 row6\" >Accommodations_Off-campus</th>\n",
       "                        <td id=\"T_48ae54b0_80e3_11ec_9137_84a6c8a989e4row6_col0\" class=\"data row6 col0\" >-0.13</td>\n",
       "                        <td id=\"T_48ae54b0_80e3_11ec_9137_84a6c8a989e4row6_col1\" class=\"data row6 col1\" >-0.02</td>\n",
       "                        <td id=\"T_48ae54b0_80e3_11ec_9137_84a6c8a989e4row6_col2\" class=\"data row6 col2\" >-0.01</td>\n",
       "                        <td id=\"T_48ae54b0_80e3_11ec_9137_84a6c8a989e4row6_col3\" class=\"data row6 col3\" >0.07</td>\n",
       "                        <td id=\"T_48ae54b0_80e3_11ec_9137_84a6c8a989e4row6_col4\" class=\"data row6 col4\" >0.12</td>\n",
       "                        <td id=\"T_48ae54b0_80e3_11ec_9137_84a6c8a989e4row6_col5\" class=\"data row6 col5\" >-0.17</td>\n",
       "                        <td id=\"T_48ae54b0_80e3_11ec_9137_84a6c8a989e4row6_col6\" class=\"data row6 col6\" >1.00</td>\n",
       "                        <td id=\"T_48ae54b0_80e3_11ec_9137_84a6c8a989e4row6_col7\" class=\"data row6 col7\" >-0.38</td>\n",
       "                        <td id=\"T_48ae54b0_80e3_11ec_9137_84a6c8a989e4row6_col8\" class=\"data row6 col8\" >-0.11</td>\n",
       "                        <td id=\"T_48ae54b0_80e3_11ec_9137_84a6c8a989e4row6_col9\" class=\"data row6 col9\" >-0.10</td>\n",
       "            </tr>\n",
       "            <tr>\n",
       "                        <th id=\"T_48ae54b0_80e3_11ec_9137_84a6c8a989e4level0_row7\" class=\"row_heading level0 row7\" >Accommodations_Other</th>\n",
       "                        <td id=\"T_48ae54b0_80e3_11ec_9137_84a6c8a989e4row7_col0\" class=\"data row7 col0\" >-0.09</td>\n",
       "                        <td id=\"T_48ae54b0_80e3_11ec_9137_84a6c8a989e4row7_col1\" class=\"data row7 col1\" >0.13</td>\n",
       "                        <td id=\"T_48ae54b0_80e3_11ec_9137_84a6c8a989e4row7_col2\" class=\"data row7 col2\" >-0.04</td>\n",
       "                        <td id=\"T_48ae54b0_80e3_11ec_9137_84a6c8a989e4row7_col3\" class=\"data row7 col3\" >0.00</td>\n",
       "                        <td id=\"T_48ae54b0_80e3_11ec_9137_84a6c8a989e4row7_col4\" class=\"data row7 col4\" >-0.14</td>\n",
       "                        <td id=\"T_48ae54b0_80e3_11ec_9137_84a6c8a989e4row7_col5\" class=\"data row7 col5\" >-0.01</td>\n",
       "                        <td id=\"T_48ae54b0_80e3_11ec_9137_84a6c8a989e4row7_col6\" class=\"data row7 col6\" >-0.38</td>\n",
       "                        <td id=\"T_48ae54b0_80e3_11ec_9137_84a6c8a989e4row7_col7\" class=\"data row7 col7\" >1.00</td>\n",
       "                        <td id=\"T_48ae54b0_80e3_11ec_9137_84a6c8a989e4row7_col8\" class=\"data row7 col8\" >0.12</td>\n",
       "                        <td id=\"T_48ae54b0_80e3_11ec_9137_84a6c8a989e4row7_col9\" class=\"data row7 col9\" >0.08</td>\n",
       "            </tr>\n",
       "            <tr>\n",
       "                        <th id=\"T_48ae54b0_80e3_11ec_9137_84a6c8a989e4level0_row8\" class=\"row_heading level0 row8\" >Attends Office Hours_Regularly</th>\n",
       "                        <td id=\"T_48ae54b0_80e3_11ec_9137_84a6c8a989e4row8_col0\" class=\"data row8 col0\" >0.37</td>\n",
       "                        <td id=\"T_48ae54b0_80e3_11ec_9137_84a6c8a989e4row8_col1\" class=\"data row8 col1\" >-0.06</td>\n",
       "                        <td id=\"T_48ae54b0_80e3_11ec_9137_84a6c8a989e4row8_col2\" class=\"data row8 col2\" >0.06</td>\n",
       "                        <td id=\"T_48ae54b0_80e3_11ec_9137_84a6c8a989e4row8_col3\" class=\"data row8 col3\" >-0.01</td>\n",
       "                        <td id=\"T_48ae54b0_80e3_11ec_9137_84a6c8a989e4row8_col4\" class=\"data row8 col4\" >-0.17</td>\n",
       "                        <td id=\"T_48ae54b0_80e3_11ec_9137_84a6c8a989e4row8_col5\" class=\"data row8 col5\" >0.09</td>\n",
       "                        <td id=\"T_48ae54b0_80e3_11ec_9137_84a6c8a989e4row8_col6\" class=\"data row8 col6\" >-0.11</td>\n",
       "                        <td id=\"T_48ae54b0_80e3_11ec_9137_84a6c8a989e4row8_col7\" class=\"data row8 col7\" >0.12</td>\n",
       "                        <td id=\"T_48ae54b0_80e3_11ec_9137_84a6c8a989e4row8_col8\" class=\"data row8 col8\" >1.00</td>\n",
       "                        <td id=\"T_48ae54b0_80e3_11ec_9137_84a6c8a989e4row8_col9\" class=\"data row8 col9\" >-0.49</td>\n",
       "            </tr>\n",
       "            <tr>\n",
       "                        <th id=\"T_48ae54b0_80e3_11ec_9137_84a6c8a989e4level0_row9\" class=\"row_heading level0 row9\" >Attends Office Hours_Sometimes</th>\n",
       "                        <td id=\"T_48ae54b0_80e3_11ec_9137_84a6c8a989e4row9_col0\" class=\"data row9 col0\" >-0.11</td>\n",
       "                        <td id=\"T_48ae54b0_80e3_11ec_9137_84a6c8a989e4row9_col1\" class=\"data row9 col1\" >0.02</td>\n",
       "                        <td id=\"T_48ae54b0_80e3_11ec_9137_84a6c8a989e4row9_col2\" class=\"data row9 col2\" >-0.06</td>\n",
       "                        <td id=\"T_48ae54b0_80e3_11ec_9137_84a6c8a989e4row9_col3\" class=\"data row9 col3\" >0.04</td>\n",
       "                        <td id=\"T_48ae54b0_80e3_11ec_9137_84a6c8a989e4row9_col4\" class=\"data row9 col4\" >0.03</td>\n",
       "                        <td id=\"T_48ae54b0_80e3_11ec_9137_84a6c8a989e4row9_col5\" class=\"data row9 col5\" >0.07</td>\n",
       "                        <td id=\"T_48ae54b0_80e3_11ec_9137_84a6c8a989e4row9_col6\" class=\"data row9 col6\" >-0.10</td>\n",
       "                        <td id=\"T_48ae54b0_80e3_11ec_9137_84a6c8a989e4row9_col7\" class=\"data row9 col7\" >0.08</td>\n",
       "                        <td id=\"T_48ae54b0_80e3_11ec_9137_84a6c8a989e4row9_col8\" class=\"data row9 col8\" >-0.49</td>\n",
       "                        <td id=\"T_48ae54b0_80e3_11ec_9137_84a6c8a989e4row9_col9\" class=\"data row9 col9\" >1.00</td>\n",
       "            </tr>\n",
       "    </tbody></table>"
      ],
      "text/plain": [
       "<pandas.io.formats.style.Styler at 0x2d7a17f0>"
      ]
     },
     "execution_count": 15,
     "metadata": {},
     "output_type": "execute_result"
    }
   ],
   "source": [
    "view  = df_dummies.corr(method='pearson')\n",
    "view.style.background_gradient(cmap='coolwarm').set_precision(2)"
   ]
  },
  {
   "cell_type": "markdown",
   "metadata": {},
   "source": [
    "We see there is no high level correlations between features in dataset."
   ]
  },
  {
   "cell_type": "code",
   "execution_count": 16,
   "metadata": {},
   "outputs": [],
   "source": [
    "# Specifying the X and Y\n",
    "\n",
    "X=df_dummies.iloc[:,1:]\n",
    "y=df_dummies.GPA"
   ]
  },
  {
   "cell_type": "markdown",
   "metadata": {},
   "source": [
    "### Train-Test Split"
   ]
  },
  {
   "cell_type": "code",
   "execution_count": 17,
   "metadata": {},
   "outputs": [],
   "source": [
    "X_train, X_test, y_train, y_test = train_test_split(X,y, test_size = 0.2)"
   ]
  },
  {
   "cell_type": "code",
   "execution_count": 18,
   "metadata": {},
   "outputs": [
    {
     "data": {
      "text/plain": [
       "(80, 9)"
      ]
     },
     "execution_count": 18,
     "metadata": {},
     "output_type": "execute_result"
    }
   ],
   "source": [
    "X_train.shape"
   ]
  },
  {
   "cell_type": "code",
   "execution_count": 19,
   "metadata": {},
   "outputs": [
    {
     "data": {
      "text/plain": [
       "(20, 9)"
      ]
     },
     "execution_count": 19,
     "metadata": {},
     "output_type": "execute_result"
    }
   ],
   "source": [
    "X_test.shape"
   ]
  },
  {
   "cell_type": "code",
   "execution_count": 20,
   "metadata": {},
   "outputs": [],
   "source": [
    "#Scaling the features\n",
    "\n",
    "\n",
    "sc_X = StandardScaler()\n",
    "\n",
    "# Fit and Transform\n",
    "\n",
    "X_trains = sc_X.fit_transform(X_train)\n",
    "X_tests = sc_X.transform(X_test)"
   ]
  },
  {
   "cell_type": "markdown",
   "metadata": {},
   "source": [
    "# Training the Model"
   ]
  },
  {
   "cell_type": "markdown",
   "metadata": {},
   "source": [
    "### Mean Absolute Error"
   ]
  },
  {
   "cell_type": "code",
   "execution_count": 21,
   "metadata": {},
   "outputs": [
    {
     "name": "stdout",
     "output_type": "stream",
     "text": [
      "Mean Absolute Error: 0.750\n"
     ]
    }
   ],
   "source": [
    "model = LinearRegression()\n",
    "\n",
    "model.fit(X_trains,y_train)\n",
    "\n",
    "ypred= model.predict(X_tests)\n",
    "\n",
    "MAE = mean_absolute_error(y_test, ypred)\n",
    "print(\"Mean Absolute Error: %.3f\" % (MAE ))"
   ]
  },
  {
   "cell_type": "markdown",
   "metadata": {},
   "source": [
    "### Mean Squared Error"
   ]
  },
  {
   "cell_type": "code",
   "execution_count": 22,
   "metadata": {},
   "outputs": [
    {
     "name": "stdout",
     "output_type": "stream",
     "text": [
      "Mean Squared Error: 0.756\n"
     ]
    }
   ],
   "source": [
    "model = LinearRegression()\n",
    "\n",
    "model.fit(X_trains,y_train)\n",
    "\n",
    "ypred= model.predict(X_tests)\n",
    "\n",
    "MSE = mean_squared_error(y_test, ypred)\n",
    "print(\"Mean Squared Error: %.3f\" % (MSE ))"
   ]
  },
  {
   "cell_type": "markdown",
   "metadata": {},
   "source": [
    "### R^2 Metric"
   ]
  },
  {
   "cell_type": "code",
   "execution_count": 23,
   "metadata": {},
   "outputs": [
    {
     "name": "stdout",
     "output_type": "stream",
     "text": [
      "R Squared Error: 0.294\n"
     ]
    }
   ],
   "source": [
    "model = LinearRegression()\n",
    "\n",
    "model.fit(X_trains,y_train)\n",
    "\n",
    "ypred= model.predict(X_tests)\n",
    "\n",
    "R2 = r2_score(y_test, ypred)\n",
    "print(\"R Squared Error: %.3f\" % (R2))"
   ]
  },
  {
   "cell_type": "markdown",
   "metadata": {},
   "source": [
    "# Conclusion"
   ]
  },
  {
   "cell_type": "code",
   "execution_count": 24,
   "metadata": {},
   "outputs": [
    {
     "name": "stdout",
     "output_type": "stream",
     "text": [
      "MAE: 0.750 \n",
      "MSE: 0.756\n",
      "RMSE:0.294\n"
     ]
    }
   ],
   "source": [
    "print('MAE: %.3f '%(MAE))\n",
    "print('MSE: %.3f'%(MSE))\n",
    "print('RMSE:%.3f'%(R2))"
   ]
  },
  {
   "cell_type": "markdown",
   "metadata": {},
   "source": [
    "I have used 3 regression metrics to estimate min error of freshmen Dataset. Linear model used and measured and visualized the performance of the models. \n",
    "\n",
    "We see mean absolute and Squared Error (0.750) is close eah other (0.756).\n",
    "\n",
    "R square is 0.294."
   ]
  }
 ],
 "metadata": {
  "kernelspec": {
   "display_name": "Python 3",
   "language": "python",
   "name": "python3"
  },
  "language_info": {
   "codemirror_mode": {
    "name": "ipython",
    "version": 3
   },
   "file_extension": ".py",
   "mimetype": "text/x-python",
   "name": "python",
   "nbconvert_exporter": "python",
   "pygments_lexer": "ipython3",
   "version": "3.8.6"
  }
 },
 "nbformat": 4,
 "nbformat_minor": 4
}
